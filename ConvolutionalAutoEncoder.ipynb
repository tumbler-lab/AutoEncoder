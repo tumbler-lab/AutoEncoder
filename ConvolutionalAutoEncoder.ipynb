{
  "nbformat": 4,
  "nbformat_minor": 0,
  "metadata": {
    "colab": {
      "name": "ConvolutionalAutoEncoder.ipynb",
      "provenance": [],
      "collapsed_sections": [],
      "authorship_tag": "ABX9TyNr0TlyXfeDOtMa0NfELBRC",
      "include_colab_link": true
    },
    "kernelspec": {
      "display_name": "Python 3",
      "name": "python3"
    },
    "language_info": {
      "name": "python"
    },
    "accelerator": "GPU"
  },
  "cells": [
    {
      "cell_type": "markdown",
      "metadata": {
        "id": "view-in-github",
        "colab_type": "text"
      },
      "source": [
        "<a href=\"https://colab.research.google.com/github/tumbler-lab/AutoEncoder/blob/main/ConvolutionalAutoEncoder.ipynb\" target=\"_parent\"><img src=\"https://colab.research.google.com/assets/colab-badge.svg\" alt=\"Open In Colab\"/></a>"
      ]
    },
    {
      "cell_type": "code",
      "metadata": {
        "id": "lOloRcn29arC"
      },
      "source": [
        "import torch\n",
        "import numpy as np\n",
        "from torchvision import datasets\n",
        "import torchvision.transforms as transforms\n",
        "\n",
        "transform = transforms.ToTensor() # tensor\n",
        "\n",
        "train_data = datasets.MNIST(root='data', train=True, download=True, transform=transform)\n",
        "test_data = datasets.MNIST(root='data', train=False, download=True, transform=transform)"
      ],
      "execution_count": null,
      "outputs": []
    },
    {
      "cell_type": "code",
      "metadata": {
        "colab": {
          "base_uri": "https://localhost:8080/"
        },
        "id": "e2wDW9Fo_Au1",
        "outputId": "6e356a23-42ca-4e20-8d08-b6418a7fee07"
      },
      "source": [
        "num_workers = 4\n",
        "batch_size = 32\n",
        "\n",
        "train_loader = torch.utils.data.DataLoader(train_data, batch_size=batch_size, num_workers=num_workers)\n",
        "test_loader = torch.utils.data.DataLoader(test_data, batch_size=batch_size, num_workers=num_workers)"
      ],
      "execution_count": null,
      "outputs": [
        {
          "output_type": "stream",
          "text": [
            "/usr/local/lib/python3.7/dist-packages/torch/utils/data/dataloader.py:477: UserWarning: This DataLoader will create 4 worker processes in total. Our suggested max number of worker in current system is 2, which is smaller than what this DataLoader is going to create. Please be aware that excessive worker creation might get DataLoader running slow or even freeze, lower the worker number to avoid potential slowness/freeze if necessary.\n",
            "  cpuset_checked))\n"
          ],
          "name": "stderr"
        }
      ]
    },
    {
      "cell_type": "markdown",
      "metadata": {
        "id": "PMFyrz9aFiQ4"
      },
      "source": [
        "# Definition"
      ]
    },
    {
      "cell_type": "code",
      "metadata": {
        "id": "n-p8TjDnAcvK"
      },
      "source": [
        "import torch.nn as nn\n",
        "import torch.nn.functional as F\n",
        "\n",
        "class ConvAutoEncoder(nn.Module):\n",
        "    def __init__(self, z_dim):\n",
        "        super(ConvAutoEncoder, self).__init__()\n",
        "        ## encoder Layer\n",
        "        self.conv1 = nn.Conv2d(in_channels=1, out_channels=16, kernel_size=3, stride=1, padding=1)\n",
        "        self.conv2 = nn.Conv2d(in_channels=16, out_channels=32, kernel_size=3, stride=1, padding=1)\n",
        "        \n",
        "        self.pool1 = nn.MaxPool2d(2, 2, return_indices=True) # poolした場所おぼえる\n",
        "        self.pool2 = nn.MaxPool2d(2, 2, return_indices=True)\n",
        "        self.linear1 = nn.Linear(7*7*32, z_dim)\n",
        "\n",
        "        ## decoder Layer\n",
        "        # convtransposeはconvの逆\n",
        "        self.t_conv1 =  nn.ConvTranspose2d(in_channels=32, out_channels=16, kernel_size=3, stride=1, padding=1)\n",
        "        self.t_conv2 =  nn.ConvTranspose2d(in_channels=16, out_channels=1, kernel_size=3, stride=1, padding=1)\n",
        "        \n",
        "        self.unpool1 = nn.MaxUnpool2d(2, 2)\n",
        "        self.unpool2 = nn.MaxUnpool2d(2, 2)\n",
        "        self.tlinear1 = nn.Linear(z_dim, 7*7*32)\n",
        "\n",
        "    \n",
        "    def encode(self, x):\n",
        "        ## encode\n",
        "        x = F.relu(self.conv1(x))\n",
        "        x, a = self.pool1(x)\n",
        "        x = F.relu(self.conv2(x))\n",
        "        x, b = self.pool2(x)\n",
        "        x = x.view(-1, 7*7*32)\n",
        "        x = F.relu(self.linear1(x))\n",
        "        return x, a, b\n",
        "\n",
        "    def decode(self, x, a, b):\n",
        "        ## decode\n",
        "        x = F.relu(self.tlinear1(x))\n",
        "        x = x.view(-1, 32, 7, 7)\n",
        "        x = self.unpool1(x, b)\n",
        "        x = F.relu(self.t_conv1(x))\n",
        "        x = self.unpool2(x, a)\n",
        "        x = torch.sigmoid(self.t_conv2(x))\n",
        "        return x\n",
        "\n",
        "\n",
        "    def forward(self, x):\n",
        "        z, a, b = self.encode(x)\n",
        "        x = self.decode(z, a, b)\n",
        "        \n",
        "        return x, z"
      ],
      "execution_count": null,
      "outputs": []
    },
    {
      "cell_type": "code",
      "metadata": {
        "id": "J-j6Tsy4B58h"
      },
      "source": [
        ""
      ],
      "execution_count": null,
      "outputs": []
    },
    {
      "cell_type": "markdown",
      "metadata": {
        "id": "rl7fAcZ_FYxl"
      },
      "source": [
        "\n",
        "# Training"
      ]
    },
    {
      "cell_type": "code",
      "metadata": {
        "id": "oRQLF_6IFfTx",
        "colab": {
          "base_uri": "https://localhost:8080/"
        },
        "outputId": "ea19d446-59b1-4bc1-a858-22900195cae8"
      },
      "source": [
        "device = torch.device('cuda:0' if torch.cuda.is_available() else 'cpu')\n",
        "model = ConvAutoEncoder(2).to(device)\n",
        "print(model)\n",
        "# loss function\n",
        "criterion = nn.MSELoss()\n",
        "\n",
        "# optimizer\n",
        "optimizer = torch.optim.Adam(model.parameters(), lr=0.001)\n",
        "num_epochs = 30"
      ],
      "execution_count": null,
      "outputs": [
        {
          "output_type": "stream",
          "text": [
            "ConvAutoEncoder(\n",
            "  (conv1): Conv2d(1, 16, kernel_size=(3, 3), stride=(1, 1), padding=(1, 1))\n",
            "  (conv2): Conv2d(16, 32, kernel_size=(3, 3), stride=(1, 1), padding=(1, 1))\n",
            "  (pool1): MaxPool2d(kernel_size=2, stride=2, padding=0, dilation=1, ceil_mode=False)\n",
            "  (pool2): MaxPool2d(kernel_size=2, stride=2, padding=0, dilation=1, ceil_mode=False)\n",
            "  (linear1): Linear(in_features=1568, out_features=2, bias=True)\n",
            "  (t_conv1): ConvTranspose2d(32, 16, kernel_size=(3, 3), stride=(1, 1), padding=(1, 1))\n",
            "  (t_conv2): ConvTranspose2d(16, 1, kernel_size=(3, 3), stride=(1, 1), padding=(1, 1))\n",
            "  (unpool1): MaxUnpool2d(kernel_size=(2, 2), stride=(2, 2), padding=(0, 0))\n",
            "  (unpool2): MaxUnpool2d(kernel_size=(2, 2), stride=(2, 2), padding=(0, 0))\n",
            "  (tlinear1): Linear(in_features=2, out_features=1568, bias=True)\n",
            ")\n"
          ],
          "name": "stdout"
        }
      ]
    },
    {
      "cell_type": "code",
      "metadata": {
        "colab": {
          "base_uri": "https://localhost:8080/"
        },
        "id": "qTIMsJK1F5rd",
        "outputId": "8ddd6f49-8657-4ee4-ce0e-f1a24587cfdb"
      },
      "source": [
        "list_z = [] # zのリスト\n",
        "list_label = [] # label list\n",
        "for epoch in range(num_epochs):\n",
        "    train_loss = 0.0\n",
        "    model.train()\n",
        "    for data in train_loader:\n",
        "        optimizer.zero_grad() # 重み初期化\n",
        "        \n",
        "        images, label = data\n",
        "        images = images.to(device)\n",
        "        outputs, z = model(images)\n",
        "        list_z.append(z)\n",
        "        list_label.append(label)\n",
        "        loss = criterion(outputs, images) # 生成した画像と元の画像の差異\n",
        "\n",
        "        loss.backward()\n",
        "        optimizer.step()\n",
        "\n",
        "        train_loss += loss.item()\n",
        "\n",
        "    train_loss = train_loss/len(train_loader)\n",
        "    print('Epoch: {} \\tTraining Loss: {:.6f}'.format(epoch+1, train_loss))"
      ],
      "execution_count": null,
      "outputs": [
        {
          "output_type": "stream",
          "text": [
            "/usr/local/lib/python3.7/dist-packages/torch/utils/data/dataloader.py:477: UserWarning: This DataLoader will create 4 worker processes in total. Our suggested max number of worker in current system is 2, which is smaller than what this DataLoader is going to create. Please be aware that excessive worker creation might get DataLoader running slow or even freeze, lower the worker number to avoid potential slowness/freeze if necessary.\n",
            "  cpuset_checked))\n"
          ],
          "name": "stderr"
        },
        {
          "output_type": "stream",
          "text": [
            "Epoch: 1 \tTraining Loss: 0.021539\n",
            "Epoch: 2 \tTraining Loss: 0.006735\n",
            "Epoch: 3 \tTraining Loss: 0.005885\n",
            "Epoch: 4 \tTraining Loss: 0.005661\n",
            "Epoch: 5 \tTraining Loss: 0.005392\n",
            "Epoch: 6 \tTraining Loss: 0.005351\n",
            "Epoch: 7 \tTraining Loss: 0.005271\n",
            "Epoch: 8 \tTraining Loss: 0.005292\n",
            "Epoch: 9 \tTraining Loss: 0.005292\n",
            "Epoch: 10 \tTraining Loss: 0.005280\n",
            "Epoch: 11 \tTraining Loss: 0.005320\n",
            "Epoch: 12 \tTraining Loss: 0.005260\n",
            "Epoch: 13 \tTraining Loss: 0.005299\n",
            "Epoch: 14 \tTraining Loss: 0.005293\n",
            "Epoch: 15 \tTraining Loss: 0.005385\n",
            "Epoch: 16 \tTraining Loss: 0.005649\n",
            "Epoch: 17 \tTraining Loss: 0.005837\n",
            "Epoch: 18 \tTraining Loss: 0.006043\n",
            "Epoch: 19 \tTraining Loss: 0.006214\n",
            "Epoch: 20 \tTraining Loss: 0.006294\n",
            "Epoch: 21 \tTraining Loss: 0.006256\n",
            "Epoch: 22 \tTraining Loss: 0.006343\n",
            "Epoch: 23 \tTraining Loss: 0.006602\n",
            "Epoch: 24 \tTraining Loss: 0.006638\n",
            "Epoch: 25 \tTraining Loss: 0.006631\n",
            "Epoch: 26 \tTraining Loss: 0.006776\n",
            "Epoch: 27 \tTraining Loss: 0.006870\n",
            "Epoch: 28 \tTraining Loss: 0.006863\n",
            "Epoch: 29 \tTraining Loss: 0.006788\n",
            "Epoch: 30 \tTraining Loss: 0.006655\n"
          ],
          "name": "stdout"
        }
      ]
    },
    {
      "cell_type": "code",
      "metadata": {
        "colab": {
          "base_uri": "https://localhost:8080/"
        },
        "id": "tOjse8H7hPIh",
        "outputId": "1077e21a-7e08-4d86-a69a-5a5ef3ab8f52"
      },
      "source": [
        "list_z_test = [] # zのリスト\n",
        "list_label_test = [] # label list\n",
        "model.eval()\n",
        "for data in test_loader:\n",
        "    images, label = data\n",
        "    images = images.to(device)\n",
        "    outputs, z = model(images)\n",
        "    list_z_test.append(z)\n",
        "    list_label_test.append(label)"
      ],
      "execution_count": null,
      "outputs": [
        {
          "output_type": "stream",
          "text": [
            "/usr/local/lib/python3.7/dist-packages/torch/utils/data/dataloader.py:477: UserWarning: This DataLoader will create 4 worker processes in total. Our suggested max number of worker in current system is 2, which is smaller than what this DataLoader is going to create. Please be aware that excessive worker creation might get DataLoader running slow or even freeze, lower the worker number to avoid potential slowness/freeze if necessary.\n",
            "  cpuset_checked))\n"
          ],
          "name": "stderr"
        }
      ]
    },
    {
      "cell_type": "code",
      "metadata": {
        "id": "DCOlP_WXGO9e",
        "colab": {
          "base_uri": "https://localhost:8080/",
          "height": 158
        },
        "outputId": "27d1da5d-95d6-4014-dfee-00320d103be9"
      },
      "source": [
        "array_z_test = np.concatenate([z.cpu().detach().numpy().copy() for z in list_z_test])\n",
        "display(array_z_test)\n",
        "array_label_test = np.concatenate([z.cpu().detach().numpy().copy() for z in list_label_test])\n",
        "display(array_label_test)"
      ],
      "execution_count": null,
      "outputs": [
        {
          "output_type": "display_data",
          "data": {
            "text/plain": [
              "array([[0.       , 3.3192012],\n",
              "       [0.       , 3.1994882],\n",
              "       [0.       , 3.8494701],\n",
              "       ...,\n",
              "       [0.       , 2.8926153],\n",
              "       [0.       , 3.0342298],\n",
              "       [0.       , 2.6172233]], dtype=float32)"
            ]
          },
          "metadata": {
            "tags": []
          }
        },
        {
          "output_type": "display_data",
          "data": {
            "text/plain": [
              "array([7, 2, 1, ..., 4, 5, 6])"
            ]
          },
          "metadata": {
            "tags": []
          }
        }
      ]
    },
    {
      "cell_type": "code",
      "metadata": {
        "id": "idwBmjTY2nZs",
        "colab": {
          "base_uri": "https://localhost:8080/",
          "height": 260
        },
        "outputId": "d956c0a3-f7d3-45f7-d523-ff65b8cb11dd"
      },
      "source": [
        "import matplotlib.pyplot as plt\n",
        "%matplotlib inline\n",
        "dataiter = iter(test_loader)\n",
        "images, labels = dataiter.next()\n",
        "images = images.to(device)\n",
        "\n",
        "output, _ = model(images)\n",
        "images = images.view(batch_size, 1, 28, 28)\n",
        "images = images.cpu().numpy()\n",
        "\n",
        "\n",
        "output = output.view(batch_size, 1, 28, 28)\n",
        "output = output.detach().cpu().numpy()\n",
        "\n",
        "fig, axes = plt.subplots(nrows=2, ncols=10, sharex=True, sharey=True, figsize=(25, 4))\n",
        "\n",
        "for images, row in zip([images, output], axes):\n",
        "    for img, ax in zip(images, row):\n",
        "        ax.imshow(np.squeeze(img), cmap='gray')\n",
        "        ax.get_xaxis().set_visible(False)\n",
        "        ax.get_yaxis().set_visible(False)\n"
      ],
      "execution_count": null,
      "outputs": [
        {
          "output_type": "stream",
          "text": [
            "/usr/local/lib/python3.7/dist-packages/torch/utils/data/dataloader.py:477: UserWarning: This DataLoader will create 4 worker processes in total. Our suggested max number of worker in current system is 2, which is smaller than what this DataLoader is going to create. Please be aware that excessive worker creation might get DataLoader running slow or even freeze, lower the worker number to avoid potential slowness/freeze if necessary.\n",
            "  cpuset_checked))\n"
          ],
          "name": "stderr"
        },
        {
          "output_type": "display_data",
          "data": {
            "image/png": "[encoded data removed]",
            "text/plain": [
              "<Figure size 1800x288 with 20 Axes>"
            ]
          },
          "metadata": {
            "tags": [],
            "needs_background": "light"
          }
        }
      ]
    },
    {
      "cell_type": "markdown",
      "metadata": {
        "id": "iEixoH8W31Px"
      },
      "source": [
        "# 2次元プロット"
      ]
    },
    {
      "cell_type": "code",
      "metadata": {
        "id": "znd2oBfE34CN"
      },
      "source": [
        "def get_mean(z_mu, y_sample, num):\n",
        "    for i in range(10):\n",
        "        idx = y_sample==num\n",
        "    return np.mean(z_mu[idx], axis=0)"
      ],
      "execution_count": null,
      "outputs": []
    },
    {
      "cell_type": "code",
      "metadata": {
        "colab": {
          "base_uri": "https://localhost:8080/",
          "height": 542
        },
        "id": "mcm98gy634yQ",
        "outputId": "f5dbf150-a17e-4c30-dedd-bf6e7ed23e33"
      },
      "source": [
        "import matplotlib.pyplot as plt\n",
        "\n",
        "dataiter =iter(train_loader)\n",
        "image_sample, label_sample = dataiter.next()\n",
        "image_sample = image_sample.to(device)\n",
        "z_mu, a, b = model.encode(image_sample)\n",
        "z_mu = z_mu.view(32,-1).detach().cpu().numpy().copy()\n",
        "\n",
        "plt.figure(figsize=(10, 8)) \n",
        "plt.scatter(z_mu[:, 0], z_mu[:, 1], c=label_sample, cmap=\"rainbow\", alpha=0.6)\n",
        "# for i in range(10):\n",
        "#     m = get_mean(z_mu, label_sample, i)\n",
        "#     plt.text(m[0], m[1], \"{}\".format(i), fontsize=20)\n",
        "\n",
        "plt.colorbar()\n",
        "plt.grid()"
      ],
      "execution_count": null,
      "outputs": [
        {
          "output_type": "stream",
          "text": [
            "/usr/local/lib/python3.7/dist-packages/torch/utils/data/dataloader.py:477: UserWarning: This DataLoader will create 4 worker processes in total. Our suggested max number of worker in current system is 2, which is smaller than what this DataLoader is going to create. Please be aware that excessive worker creation might get DataLoader running slow or even freeze, lower the worker number to avoid potential slowness/freeze if necessary.\n",
            "  cpuset_checked))\n"
          ],
          "name": "stderr"
        },
        {
          "output_type": "display_data",
          "data": {
            "image/png": "[encoded data removed]",
            "text/plain": [
              "<Figure size 720x576 with 2 Axes>"
            ]
          },
          "metadata": {
            "tags": [],
            "needs_background": "light"
          }
        }
      ]
    },
    {
      "cell_type": "code",
      "metadata": {
        "colab": {
          "base_uri": "https://localhost:8080/",
          "height": 328
        },
        "id": "V7NlKq49VKDp",
        "outputId": "f28aa46e-b876-4cbb-a8f1-600c44cc14d3"
      },
      "source": [
        "import matplotlib.pyplot as plt\n",
        "\n",
        "# dataiter =iter(train_loader)\n",
        "# image_sample, label_sample = dataiter.next()\n",
        "# image_sample = image_sample.to(device)\n",
        "# z_mu, a, b = model.encode(image_sample)\n",
        "# z_mu = z_mu.view(32,-1).detach().cpu().numpy().copy()\n",
        "z_mu = array_z_test.copy()\n",
        "# z_mu[:, 1] = 1\n",
        "\n",
        "idx1, idx2 = 0, 1\n",
        "plt.xlim(z_mu[:, idx1].min(), z_mu[:, idx1].max())\n",
        "plt.ylim(z_mu[:, idx2].min(), z_mu[:, idx2].max())\n",
        "color_dict = {0: 'blue', 1: 'green', 2: 'red', 3: 'cyan',\n",
        "              4: 'magenta', 5: 'yellow', 6: 'black', 7: 'white', 8: 'yellow', 9: 'blue'}\n",
        "for z, label in zip(z_mu, array_label_test):\n",
        "    if label:\n",
        "        plt.text(z[idx1], z[idx2], s=label.item(), color=color_dict[label.item()])\n",
        "plt.show()"
      ],
      "execution_count": null,
      "outputs": [
        {
          "output_type": "stream",
          "text": [
            "/usr/local/lib/python3.7/dist-packages/ipykernel_launcher.py:12: UserWarning: Attempting to set identical left == right == 0.0 results in singular transformations; automatically expanding.\n",
            "  if sys.path[0] == '':\n"
          ],
          "name": "stderr"
        },
        {
          "output_type": "display_data",
          "data": {
            "image/png": "[encoded data removed]",
            "text/plain": [
              "<Figure size 432x288 with 1 Axes>"
            ]
          },
          "metadata": {
            "tags": [],
            "needs_background": "light"
          }
        }
      ]
    },
    {
      "cell_type": "code",
      "metadata": {
        "colab": {
          "base_uri": "https://localhost:8080/"
        },
        "id": "WtTksxhHfuBy",
        "outputId": "187e4df5-835c-4cc2-a2e1-b8b7c8a5f1ad"
      },
      "source": [
        "z_mu"
      ],
      "execution_count": null,
      "outputs": [
        {
          "output_type": "execute_result",
          "data": {
            "text/plain": [
              "array([[0.        , 1.        ],\n",
              "       [0.04281466, 1.        ],\n",
              "       [0.02756484, 1.        ],\n",
              "       ...,\n",
              "       [1.9277858 , 1.        ],\n",
              "       [1.859339  , 1.        ],\n",
              "       [1.8220985 , 1.        ]], dtype=float32)"
            ]
          },
          "metadata": {
            "tags": []
          },
          "execution_count": 24
        }
      ]
    },
    {
      "cell_type": "markdown",
      "metadata": {
        "id": "1FyoKKOpEdaJ"
      },
      "source": [
        "# いみふめい"
      ]
    },
    {
      "cell_type": "code",
      "metadata": {
        "id": "qu4JNvAB80tL"
      },
      "source": [
        "\"dataiter =iter(train_loader)\n",
        "\n",
        "len(dataiter.next()[0])"
      ],
      "execution_count": null,
      "outputs": []
    },
    {
      "cell_type": "code",
      "metadata": {
        "id": "aDnGctHy9RCq"
      },
      "source": [
        "z_mu.reshape((1000)).shape"
      ],
      "execution_count": null,
      "outputs": []
    },
    {
      "cell_type": "code",
      "metadata": {
        "id": "CYmLo5i4CYE-",
        "colab": {
          "base_uri": "https://localhost:8080/",
          "height": 236
        },
        "outputId": "6e8b97f3-01c1-4ef6-af6d-0aa5943be1d1"
      },
      "source": [
        "test_dataset = datasets.MNIST('./data', download=True, train=False, transform=transforms.ToTensor())\n",
        "test_loader = torch.utils.data.DataLoader(test_dataset, batch_size=1000, shuffle=False)\n",
        "test_images, test_labels = iter(test_loader).next()\n",
        "#test_images = test_images.view(1000, -1)\n",
        "\n",
        "with torch.no_grad():\n",
        "    #batch_size=10000\n",
        "    z = model.encode(test_images.to(device))\n",
        "test_mu, test_logvar = z\n",
        "test_mu = test_mu.to(device)\n",
        "test_mu = test_mu.cpu()\n",
        "test_mu = test_mu.detach().numpy()\n",
        "\n",
        "import pylab\n",
        "import matplotlib.pyplot as plt\n",
        "%matplotlib inline\n",
        "\n",
        "#VAEの潜在変数にラベルをつけてプロット\n",
        "plt.figure(figsize=(10, 10))\n",
        "plt.scatter(test_mu[:, 0], test_mu[:, 1], marker='.', c=test_labels, cmap=pylab.cm.jet)\n",
        "plt.colorbar()\n",
        "plt.xlim((-6, 6))\n",
        "plt.ylim((-6, 6))\n",
        "plt.title(\"VAE\")"
      ],
      "execution_count": null,
      "outputs": [
        {
          "output_type": "error",
          "ename": "ValueError",
          "evalue": "ignored",
          "traceback": [
            "\u001b[0;31m---------------------------------------------------------------------------\u001b[0m",
            "\u001b[0;31mValueError\u001b[0m                                Traceback (most recent call last)",
            "\u001b[0;32m<ipython-input-104-13fe4eb6affb>\u001b[0m in \u001b[0;36m<module>\u001b[0;34m()\u001b[0m\n\u001b[1;32m      7\u001b[0m     \u001b[0;31m#batch_size=10000\u001b[0m\u001b[0;34m\u001b[0m\u001b[0;34m\u001b[0m\u001b[0;34m\u001b[0m\u001b[0m\n\u001b[1;32m      8\u001b[0m     \u001b[0mz\u001b[0m \u001b[0;34m=\u001b[0m \u001b[0mmodel\u001b[0m\u001b[0;34m.\u001b[0m\u001b[0mencode\u001b[0m\u001b[0;34m(\u001b[0m\u001b[0mtest_images\u001b[0m\u001b[0;34m.\u001b[0m\u001b[0mto\u001b[0m\u001b[0;34m(\u001b[0m\u001b[0mdevice\u001b[0m\u001b[0;34m)\u001b[0m\u001b[0;34m)\u001b[0m\u001b[0;34m\u001b[0m\u001b[0;34m\u001b[0m\u001b[0m\n\u001b[0;32m----> 9\u001b[0;31m \u001b[0mtest_mu\u001b[0m\u001b[0;34m,\u001b[0m \u001b[0mtest_logvar\u001b[0m \u001b[0;34m=\u001b[0m \u001b[0mz\u001b[0m\u001b[0;34m\u001b[0m\u001b[0;34m\u001b[0m\u001b[0m\n\u001b[0m\u001b[1;32m     10\u001b[0m \u001b[0mtest_mu\u001b[0m \u001b[0;34m=\u001b[0m \u001b[0mtest_mu\u001b[0m\u001b[0;34m.\u001b[0m\u001b[0mto\u001b[0m\u001b[0;34m(\u001b[0m\u001b[0mdevice\u001b[0m\u001b[0;34m)\u001b[0m\u001b[0;34m\u001b[0m\u001b[0;34m\u001b[0m\u001b[0m\n\u001b[1;32m     11\u001b[0m \u001b[0mtest_mu\u001b[0m \u001b[0;34m=\u001b[0m \u001b[0mtest_mu\u001b[0m\u001b[0;34m.\u001b[0m\u001b[0mcpu\u001b[0m\u001b[0;34m(\u001b[0m\u001b[0;34m)\u001b[0m\u001b[0;34m\u001b[0m\u001b[0;34m\u001b[0m\u001b[0m\n",
            "\u001b[0;31mValueError\u001b[0m: too many values to unpack (expected 2)"
          ]
        }
      ]
    },
    {
      "cell_type": "code",
      "metadata": {
        "id": "mopFSVn7Df1z"
      },
      "source": [
        "# \n",
        "import pandas as pd\n",
        "import seaborn as sns\n",
        "import matplotlib.pyplot as plt\n",
        "z_df = pd.DataFrame(z_mu)\n",
        "\n",
        "feature_corr = z_df.corr()\n",
        "fig, ax = plt.subplots(figsize=(12, 9)) \n",
        "sns.heatmap(feature_corr, square=True, vmax=1, vmin=-1, center=0)\n"
      ],
      "execution_count": null,
      "outputs": []
    },
    {
      "cell_type": "code",
      "metadata": {
        "id": "kFXzrlsrWTDN"
      },
      "source": [
        "z_mu.shape"
      ],
      "execution_count": null,
      "outputs": []
    },
    {
      "cell_type": "code",
      "metadata": {
        "id": "B46etgZyWiFG"
      },
      "source": [
        "train_data.data.size()"
      ],
      "execution_count": null,
      "outputs": []
    },
    {
      "cell_type": "code",
      "metadata": {
        "id": "SLwEuJNaWw5I"
      },
      "source": [
        ""
      ],
      "execution_count": null,
      "outputs": []
    }
  ]
}